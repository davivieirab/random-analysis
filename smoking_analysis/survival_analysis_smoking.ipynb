{
 "cells": [
  {
   "cell_type": "markdown",
   "metadata": {},
   "source": [
    "## Survival analysis - Smoking data"
   ]
  },
  {
   "cell_type": "code",
   "execution_count": 1,
   "metadata": {},
   "outputs": [],
   "source": [
    "import numpy as np\n",
    "import pandas as pd\n",
    "import matplotlib.pyplot as plt\n",
    "\n",
    "from lifelines import KaplanMeierFitter"
   ]
  },
  {
   "cell_type": "markdown",
   "metadata": {},
   "source": [
    "### Reading and cleaning - smoking data\n",
    "\n",
    "We will perform the same cleaning procedure created by Vincent D. Warmerdam.\n",
    "\n",
    "The exception is the creation of a `death` variable column.\n",
    "\n",
    "Source: https://calmcode.io/smoking/cleaning.html"
   ]
  },
  {
   "cell_type": "code",
   "execution_count": 2,
   "metadata": {},
   "outputs": [],
   "source": [
    "df = pd.read_csv('https://calmcode.io/datasets/smoking.csv')"
   ]
  },
  {
   "cell_type": "code",
   "execution_count": 3,
   "metadata": {},
   "outputs": [
    {
     "data": {
      "text/html": [
       "<div>\n",
       "<style scoped>\n",
       "    .dataframe tbody tr th:only-of-type {\n",
       "        vertical-align: middle;\n",
       "    }\n",
       "\n",
       "    .dataframe tbody tr th {\n",
       "        vertical-align: top;\n",
       "    }\n",
       "\n",
       "    .dataframe thead th {\n",
       "        text-align: right;\n",
       "    }\n",
       "</style>\n",
       "<table border=\"1\" class=\"dataframe\">\n",
       "  <thead>\n",
       "    <tr style=\"text-align: right;\">\n",
       "      <th></th>\n",
       "      <th>outcome</th>\n",
       "      <th>smoker</th>\n",
       "      <th>age</th>\n",
       "    </tr>\n",
       "  </thead>\n",
       "  <tbody>\n",
       "    <tr>\n",
       "      <th>0</th>\n",
       "      <td>Alive</td>\n",
       "      <td>Yes</td>\n",
       "      <td>23</td>\n",
       "    </tr>\n",
       "    <tr>\n",
       "      <th>1</th>\n",
       "      <td>Alive</td>\n",
       "      <td>Yes</td>\n",
       "      <td>18</td>\n",
       "    </tr>\n",
       "    <tr>\n",
       "      <th>2</th>\n",
       "      <td>Dead</td>\n",
       "      <td>Yes</td>\n",
       "      <td>71</td>\n",
       "    </tr>\n",
       "    <tr>\n",
       "      <th>3</th>\n",
       "      <td>Alive</td>\n",
       "      <td>No</td>\n",
       "      <td>67</td>\n",
       "    </tr>\n",
       "    <tr>\n",
       "      <th>4</th>\n",
       "      <td>Alive</td>\n",
       "      <td>No</td>\n",
       "      <td>64</td>\n",
       "    </tr>\n",
       "  </tbody>\n",
       "</table>\n",
       "</div>"
      ],
      "text/plain": [
       "  outcome smoker  age\n",
       "0   Alive    Yes   23\n",
       "1   Alive    Yes   18\n",
       "2    Dead    Yes   71\n",
       "3   Alive     No   67\n",
       "4   Alive     No   64"
      ]
     },
     "execution_count": 3,
     "metadata": {},
     "output_type": "execute_result"
    }
   ],
   "source": [
    "df.head()"
   ]
  },
  {
   "cell_type": "code",
   "execution_count": 4,
   "metadata": {},
   "outputs": [],
   "source": [
    "def clean_dataframe(dataf):\n",
    "    return (dataf\n",
    "            .assign(alive=lambda d: (d['outcome'] == 'Alive').astype(np.int))\n",
    "            .assign(smokes=lambda d: (d['smoker'] == 'Yes').astype(np.int))\n",
    "            .assign(death=lambda d: (d['outcome'] != 'Alive').astype(np.int)))\n",
    "\n",
    "clean_df = df.pipe(clean_dataframe)"
   ]
  },
  {
   "cell_type": "code",
   "execution_count": 5,
   "metadata": {},
   "outputs": [
    {
     "data": {
      "text/html": [
       "<div>\n",
       "<style scoped>\n",
       "    .dataframe tbody tr th:only-of-type {\n",
       "        vertical-align: middle;\n",
       "    }\n",
       "\n",
       "    .dataframe tbody tr th {\n",
       "        vertical-align: top;\n",
       "    }\n",
       "\n",
       "    .dataframe thead th {\n",
       "        text-align: right;\n",
       "    }\n",
       "</style>\n",
       "<table border=\"1\" class=\"dataframe\">\n",
       "  <thead>\n",
       "    <tr style=\"text-align: right;\">\n",
       "      <th></th>\n",
       "      <th>outcome</th>\n",
       "      <th>smoker</th>\n",
       "      <th>age</th>\n",
       "      <th>alive</th>\n",
       "      <th>smokes</th>\n",
       "      <th>death</th>\n",
       "    </tr>\n",
       "  </thead>\n",
       "  <tbody>\n",
       "    <tr>\n",
       "      <th>0</th>\n",
       "      <td>Alive</td>\n",
       "      <td>Yes</td>\n",
       "      <td>23</td>\n",
       "      <td>1</td>\n",
       "      <td>1</td>\n",
       "      <td>0</td>\n",
       "    </tr>\n",
       "    <tr>\n",
       "      <th>1</th>\n",
       "      <td>Alive</td>\n",
       "      <td>Yes</td>\n",
       "      <td>18</td>\n",
       "      <td>1</td>\n",
       "      <td>1</td>\n",
       "      <td>0</td>\n",
       "    </tr>\n",
       "    <tr>\n",
       "      <th>2</th>\n",
       "      <td>Dead</td>\n",
       "      <td>Yes</td>\n",
       "      <td>71</td>\n",
       "      <td>0</td>\n",
       "      <td>1</td>\n",
       "      <td>1</td>\n",
       "    </tr>\n",
       "    <tr>\n",
       "      <th>3</th>\n",
       "      <td>Alive</td>\n",
       "      <td>No</td>\n",
       "      <td>67</td>\n",
       "      <td>1</td>\n",
       "      <td>0</td>\n",
       "      <td>0</td>\n",
       "    </tr>\n",
       "    <tr>\n",
       "      <th>4</th>\n",
       "      <td>Alive</td>\n",
       "      <td>No</td>\n",
       "      <td>64</td>\n",
       "      <td>1</td>\n",
       "      <td>0</td>\n",
       "      <td>0</td>\n",
       "    </tr>\n",
       "  </tbody>\n",
       "</table>\n",
       "</div>"
      ],
      "text/plain": [
       "  outcome smoker  age  alive  smokes  death\n",
       "0   Alive    Yes   23      1       1      0\n",
       "1   Alive    Yes   18      1       1      0\n",
       "2    Dead    Yes   71      0       1      1\n",
       "3   Alive     No   67      1       0      0\n",
       "4   Alive     No   64      1       0      0"
      ]
     },
     "execution_count": 5,
     "metadata": {},
     "output_type": "execute_result"
    }
   ],
   "source": [
    "clean_df.head()"
   ]
  },
  {
   "cell_type": "markdown",
   "metadata": {},
   "source": [
    "### Framing the problem\n",
    "\n",
    "By analyzing the data, the proportion of individuals that survive in the smokers versus non smokers groups are the following:"
   ]
  },
  {
   "cell_type": "code",
   "execution_count": 6,
   "metadata": {},
   "outputs": [
    {
     "data": {
      "text/html": [
       "<div>\n",
       "<style scoped>\n",
       "    .dataframe tbody tr th:only-of-type {\n",
       "        vertical-align: middle;\n",
       "    }\n",
       "\n",
       "    .dataframe tbody tr th {\n",
       "        vertical-align: top;\n",
       "    }\n",
       "\n",
       "    .dataframe thead th {\n",
       "        text-align: right;\n",
       "    }\n",
       "</style>\n",
       "<table border=\"1\" class=\"dataframe\">\n",
       "  <thead>\n",
       "    <tr style=\"text-align: right;\">\n",
       "      <th></th>\n",
       "      <th>alive</th>\n",
       "    </tr>\n",
       "    <tr>\n",
       "      <th>smokes</th>\n",
       "      <th></th>\n",
       "    </tr>\n",
       "  </thead>\n",
       "  <tbody>\n",
       "    <tr>\n",
       "      <th>0</th>\n",
       "      <td>0.685792</td>\n",
       "    </tr>\n",
       "    <tr>\n",
       "      <th>1</th>\n",
       "      <td>0.761168</td>\n",
       "    </tr>\n",
       "  </tbody>\n",
       "</table>\n",
       "</div>"
      ],
      "text/plain": [
       "           alive\n",
       "smokes          \n",
       "0       0.685792\n",
       "1       0.761168"
      ]
     },
     "execution_count": 6,
     "metadata": {},
     "output_type": "execute_result"
    }
   ],
   "source": [
    "clean_df.groupby(\"smokes\").agg({'alive': np.mean})"
   ]
  },
  {
   "cell_type": "markdown",
   "metadata": {},
   "source": [
    "76% of the smokers survive versus 68% of the non smokers. So, smoking is good for us? Strange, isn't it?\n",
    "\n",
    "Probably might be a good idea to control our results by age. Let's check the age of both groups:"
   ]
  },
  {
   "cell_type": "code",
   "execution_count": 7,
   "metadata": {},
   "outputs": [
    {
     "data": {
      "image/png": "[encoded data removed]",
      "text/plain": [
       "<Figure size 432x288 with 1 Axes>"
      ]
     },
     "metadata": {
      "needs_background": "light"
     },
     "output_type": "display_data"
    }
   ],
   "source": [
    "clean_df.groupby(\"smokes\")['age'].plot(kind='hist', alpha=0.5, legend=True);"
   ]
  },
  {
   "cell_type": "code",
   "execution_count": 8,
   "metadata": {},
   "outputs": [
    {
     "data": {
      "text/html": [
       "<div>\n",
       "<style scoped>\n",
       "    .dataframe tbody tr th:only-of-type {\n",
       "        vertical-align: middle;\n",
       "    }\n",
       "\n",
       "    .dataframe tbody tr th {\n",
       "        vertical-align: top;\n",
       "    }\n",
       "\n",
       "    .dataframe thead tr th {\n",
       "        text-align: left;\n",
       "    }\n",
       "\n",
       "    .dataframe thead tr:last-of-type th {\n",
       "        text-align: right;\n",
       "    }\n",
       "</style>\n",
       "<table border=\"1\" class=\"dataframe\">\n",
       "  <thead>\n",
       "    <tr>\n",
       "      <th></th>\n",
       "      <th>alive</th>\n",
       "      <th colspan=\"2\" halign=\"left\">age</th>\n",
       "    </tr>\n",
       "    <tr>\n",
       "      <th></th>\n",
       "      <th>mean</th>\n",
       "      <th>mean</th>\n",
       "      <th>std</th>\n",
       "    </tr>\n",
       "    <tr>\n",
       "      <th>smokes</th>\n",
       "      <th></th>\n",
       "      <th></th>\n",
       "      <th></th>\n",
       "    </tr>\n",
       "  </thead>\n",
       "  <tbody>\n",
       "    <tr>\n",
       "      <th>0</th>\n",
       "      <td>0.685792</td>\n",
       "      <td>48.699454</td>\n",
       "      <td>18.793713</td>\n",
       "    </tr>\n",
       "    <tr>\n",
       "      <th>1</th>\n",
       "      <td>0.761168</td>\n",
       "      <td>44.682131</td>\n",
       "      <td>15.275113</td>\n",
       "    </tr>\n",
       "  </tbody>\n",
       "</table>\n",
       "</div>"
      ],
      "text/plain": [
       "           alive        age           \n",
       "            mean       mean        std\n",
       "smokes                                \n",
       "0       0.685792  48.699454  18.793713\n",
       "1       0.761168  44.682131  15.275113"
      ]
     },
     "execution_count": 8,
     "metadata": {},
     "output_type": "execute_result"
    }
   ],
   "source": [
    "clean_df.groupby(\"smokes\").agg({'alive': np.mean, 'age': [np.mean, np.std]})"
   ]
  },
  {
   "cell_type": "markdown",
   "metadata": {},
   "source": [
    "Hum... the two groups are not comparable when it comes to age. The non smokers group contains older individuals.\n",
    "\n",
    "How can we estimate the effect of smoking in people survival through time?"
   ]
  },
  {
   "cell_type": "markdown",
   "metadata": {},
   "source": [
    "### Smokers versus non smokers - a Survival Analysis view\n",
    "\n",
    "The idea is to perform a [survival analysis](https://en.wikipedia.org/wiki/Survival_analysis#:~:text=Survival%20analysis%20is%20a%20branch,and%20failure%20in%20mechanical%20systems.) study over the smoking dataset retrieving how a person's survival might be affected due to smoking.\n",
    "\n",
    "Survival analysis makes possible for us to study how individuals survive along the time. Here our goal is to estimate the **survival function - S(t)**.\n",
    "\n",
    "The survival function can be written as:\n",
    "\n",
    "$S(t) = P(T>t)$, the probability an individual survives up to time t.\n",
    "\n",
    "Among many possible estimators to estimate the survival curve, we will use the Kaplan-Meier estimator. Kaplan-Meier is a non-parametric estimator that can be written as:\n",
    "\n",
    "$$\\hat{S} = \\prod_{i: t_i \\leq t} (1-\\frac{d_i}{n_i})$$, where\n",
    "\n",
    "$d_i$: number of failures (in our case deaths) at time $t_i$\n",
    "\n",
    "$n_i$: number of individuals in risk at time $t_i$\n",
    "\n",
    "By using the number of individuals in risk along the time, each individual counts as a normalizer, even if at the end of the study time this individual has not experienced an event (in our case death). The individuals that have not experienced the event of interest (death) are called **censors**.\n",
    "\n",
    "For each time window that a death ocurred, the $1-\\frac{d_i}{n_i}$ term is calculated and the productory combines the current and all previous time windows to estimate the current survival: $S(t)$."
   ]
  },
  {
   "cell_type": "code",
   "execution_count": 9,
   "metadata": {},
   "outputs": [],
   "source": [
    "# Splitting data between smokers and non smokers\n",
    "df_smoker = clean_df.query(\"smokes == 1\")\n",
    "df_non_smoker = clean_df.query(\"smokes == 0\")"
   ]
  },
  {
   "cell_type": "code",
   "execution_count": 10,
   "metadata": {},
   "outputs": [
    {
     "data": {
      "text/plain": [
       "<lifelines.KaplanMeierFitter:\"KM_estimate\", fitted with 732 total observations, 502 right-censored observations>"
      ]
     },
     "execution_count": 10,
     "metadata": {},
     "output_type": "execute_result"
    }
   ],
   "source": [
    "# Estimate survival for both groups\n",
    "\n",
    "# Fitting a Kaplan-Meier estimator to smokers\n",
    "kmf_smoker = KaplanMeierFitter()\n",
    "kmf_smoker.fit(df_smoker['age'], df_smoker['death'])\n",
    "\n",
    "# Fitting a Kaplan-Meier estimator to non smokers\n",
    "kmf_non_smoker = KaplanMeierFitter()\n",
    "kmf_non_smoker.fit(df_non_smoker['age'], df_non_smoker['death'])"
   ]
  },
  {
   "cell_type": "code",
   "execution_count": 11,
   "metadata": {},
   "outputs": [
    {
     "data": {
      "image/png": "[encoded data removed]",
      "text/plain": [
       "<Figure size 864x576 with 1 Axes>"
      ]
     },
     "metadata": {
      "needs_background": "light"
     },
     "output_type": "display_data"
    }
   ],
   "source": [
    "# Plotting survival estimates for both groups\n",
    "plt.figure(figsize=(12,8))\n",
    "\n",
    "ax = kmf_smoker.plot(color='crimson', label='smoker')\n",
    "\n",
    "kmf_non_smoker.plot(ax=ax, color='navy', label='non-smoker')\n",
    "\n",
    "plt.title(\"Survival estimates for both groups - Smokers and non smokers\", size=15);"
   ]
  },
  {
   "cell_type": "markdown",
   "metadata": {},
   "source": [
    "Ok, nice. As we thought, non smokers have a better survival curve with a higher proportion of individuals surviving longer than those who smoke.\n",
    "\n",
    "Let's compute some statistics from both survival curves and compare them across groups:\n",
    "\n",
    "* Median survival: \n",
    "\n",
    "At what time t we have: $ P(T>t) = 0.5 $\n"
   ]
  },
  {
   "cell_type": "code",
   "execution_count": 12,
   "metadata": {},
   "outputs": [
    {
     "data": {
      "text/plain": [
       "66.0"
      ]
     },
     "execution_count": 12,
     "metadata": {},
     "output_type": "execute_result"
    }
   ],
   "source": [
    "# Median survival - P(T>t) = 0.5 - for smokers\n",
    "median_surv_smoker = kmf_smoker.median_survival_time_\n",
    "median_surv_smoker"
   ]
  },
  {
   "cell_type": "code",
   "execution_count": 103,
   "metadata": {},
   "outputs": [
    {
     "data": {
      "text/plain": [
       "71.0"
      ]
     },
     "execution_count": 103,
     "metadata": {},
     "output_type": "execute_result"
    }
   ],
   "source": [
    "# Median survival - P(T>t) = 0.5 - for non smokers\n",
    "median_surv_non_smoker = kmf_non_smoker.median_survival_time_\n",
    "median_surv_non_smoker"
   ]
  },
  {
   "cell_type": "code",
   "execution_count": 104,
   "metadata": {},
   "outputs": [
    {
     "data": {
      "text/plain": [
       "1.0757575757575757"
      ]
     },
     "execution_count": 104,
     "metadata": {},
     "output_type": "execute_result"
    }
   ],
   "source": [
    "# Relation between median survival times\n",
    "median_surv_non_smoker/median_surv_smoker"
   ]
  },
  {
   "cell_type": "markdown",
   "metadata": {},
   "source": [
    "Ok, non smokers seem to have a median survival ~7.6% higher, or in years, 5 years, than those who smoke. That makes sense!!"
   ]
  },
  {
   "cell_type": "markdown",
   "metadata": {},
   "source": [
    "What if we use the expected survival time? It is a weighted mean using all survival probabilities through time. So, it is the most probable survival horizon for each group (smokers and non smokers)."
   ]
  },
  {
   "cell_type": "code",
   "execution_count": 15,
   "metadata": {},
   "outputs": [
    {
     "name": "stdout",
     "output_type": "stream",
     "text": [
      "Expected survival for smokers:  64\n",
      "Expected survival for non smokers:  70\n"
     ]
    }
   ],
   "source": [
    "# Retrieving the survival estimates for both groups - smokers and non smokers\n",
    "kmf_smoker_surv = kmf_smoker.survival_function_\n",
    "kmf_non_smoker_surv = kmf_non_smoker.survival_function_\n",
    "\n",
    "# Calculating the expected survival - area below survival curves\n",
    "expected_time_smoker = np.trapz(kmf_smoker_surv, kmf_smoker.timeline, axis=0)[0]\n",
    "expected_time_non_smoker = np.trapz(kmf_non_smoker_surv, kmf_non_smoker.timeline, axis=0)[0]\n",
    "\n",
    "print(f\"Expected survival for smokers: {expected_time_smoker: .0f}\")\n",
    "print(f\"Expected survival for non smokers: {expected_time_non_smoker: .0f}\")"
   ]
  },
  {
   "cell_type": "code",
   "execution_count": 106,
   "metadata": {},
   "outputs": [
    {
     "data": {
      "text/plain": [
       "1.0825082796125152"
      ]
     },
     "execution_count": 106,
     "metadata": {},
     "output_type": "execute_result"
    }
   ],
   "source": [
    "# Ratio between survival of both groups\n",
    "expected_time_non_smoker/expected_time_smoker"
   ]
  },
  {
   "cell_type": "markdown",
   "metadata": {},
   "source": [
    "We estimate that non smokers live, in average, 8.25% longer than those who smoke. In years it represents 6 years."
   ]
  },
  {
   "cell_type": "markdown",
   "metadata": {},
   "source": [
    "### Survival difference between groups over time\n",
    "\n",
    "What if we want to observe some cool statistics through time?\n",
    "\n",
    "It is possible to compare the survival estimates for both groups and take some insights from the differences and odds between survival estimates and time estimates of both groups."
   ]
  },
  {
   "cell_type": "code",
   "execution_count": 107,
   "metadata": {},
   "outputs": [],
   "source": [
    "# Maximum survival for both groups - smokers and non smokers\n",
    "SMOKER_MAX_SURVIVAL = kmf_smoker.timeline.max()\n",
    "NON_SMOKER_MAX_SURVIVAL = kmf_non_smoker.timeline.max()"
   ]
  },
  {
   "cell_type": "code",
   "execution_count": 112,
   "metadata": {},
   "outputs": [
    {
     "data": {
      "text/plain": [
       "array([ 0.,  1.,  2.,  3.,  4.,  5.,  6.,  7.,  8.,  9., 10., 11., 12.,\n",
       "       13., 14., 15., 16., 17., 18., 19., 20., 21., 22., 23., 24., 25.,\n",
       "       26., 27., 28., 29., 30., 31., 32., 33., 34., 35., 36., 37., 38.,\n",
       "       39., 40., 41., 42., 43., 44., 45., 46., 47., 48., 49., 50., 51.,\n",
       "       52., 53., 54., 55., 56., 57., 58., 59., 60., 61., 62., 63., 64.,\n",
       "       65., 66., 67., 68., 69., 70., 71., 72., 73., 74., 75., 76., 77.,\n",
       "       78., 79., 80., 81., 82., 83.])"
      ]
     },
     "execution_count": 112,
     "metadata": {},
     "output_type": "execute_result"
    }
   ],
   "source": [
    "# Creating our time buckets\n",
    "TIME_BUCKETS = np.arange(0, max(SMOKER_MAX_SURVIVAL, NON_SMOKER_MAX_SURVIVAL), 1)\n",
    "TIME_BUCKETS"
   ]
  },
  {
   "cell_type": "code",
   "execution_count": 135,
   "metadata": {},
   "outputs": [],
   "source": [
    "# Survival at time buckets for both groups\n",
    "survival_smoker = kmf_smoker.survival_function_at_times(TIME_BUCKETS)\n",
    "survival_non_smoker = kmf_non_smoker.survival_function_at_times(TIME_BUCKETS)\n",
    "\n",
    "# Survival difference and survival odds between groups\n",
    "diff_survival = survival_non_smoker - survival_smoker\n",
    "odds_survival = survival_non_smoker/survival_smoker"
   ]
  },
  {
   "cell_type": "code",
   "execution_count": 136,
   "metadata": {},
   "outputs": [
    {
     "data": {
      "image/png": "[encoded data removed]",
      "text/plain": [
       "<Figure size 864x576 with 1 Axes>"
      ]
     },
     "metadata": {
      "needs_background": "light"
     },
     "output_type": "display_data"
    }
   ],
   "source": [
    "plt.figure(figsize=(12,8))\n",
    "plt.plot(diff_survival, color='crimson')\n",
    "plt.axhline(y=diff_survival.mean(),\n",
    "            linestyle='--',\n",
    "            color='black')\n",
    "plt.text(x=0, \n",
    "         y=diff_survival.mean()+0.005,\n",
    "         s=f\"Mean survival effect for not smoking: {diff_survival.mean():.3f}\")\n",
    "plt.title(\"Survival differences: non smokers survival minus smokers survival\", size=15);"
   ]
  },
  {
   "cell_type": "markdown",
   "metadata": {},
   "source": [
    "From the graph above we can take two conclusions:\n",
    "\n",
    "* Those who do not smoke have 28.8% more chances of surviving up to 65 years.\n",
    "* In average, those who do not smoke have 6.3% more chances of surviving across all observed ages (up to 84 years).\n",
    "* For the ones younger than 40 years, the study displays that smoking did not affect survival estimates between groups.\n",
    "* From 40 years on, the survival of those in the non smoking group is significantly higher than those in the smoking group. Is this a carried effect from smoking over a long period? `Smoking history` (years smoking) would be a great variable to have to account for its effect in the estimation.\n",
    "* After 65 years, the survival of both groups starts to converge."
   ]
  },
  {
   "cell_type": "markdown",
   "metadata": {},
   "source": [
    "If we take a look on the survival odds (survival of non smokers divided by the survival of smokers) we get an interesting view of how the risk of being part of the smokers group is high."
   ]
  },
  {
   "cell_type": "code",
   "execution_count": 139,
   "metadata": {},
   "outputs": [
    {
     "data": {
      "image/png": "[encoded data removed]",
      "text/plain": [
       "<Figure size 864x576 with 1 Axes>"
      ]
     },
     "metadata": {
      "needs_background": "light"
     },
     "output_type": "display_data"
    }
   ],
   "source": [
    "plt.figure(figsize=(12,8))\n",
    "plt.plot(odds_survival, color='crimson')\n",
    "plt.axhline(y=odds_survival.mean(),\n",
    "            linestyle='--',\n",
    "            color='black')\n",
    "plt.text(x=0, \n",
    "         y=odds_survival.mean()+0.05,\n",
    "         s=f\"Mean survival odds for not smoking: {odds_survival.mean():.3f}\")\n",
    "plt.title(\"Survival odds: non smokers survival over smokers survival\", size=15);"
   ]
  },
  {
   "cell_type": "markdown",
   "metadata": {},
   "source": [
    "* Non smokers survival rates might get up to 2 times higher (excluding the peak of 3.5 times at 84 years) when compared to smokers survival rates.\n",
    "* In average, non smokers are 1.23 times more likely to survive across all observed times than smokers."
   ]
  }
 ],
 "metadata": {
  "kernelspec": {
   "display_name": "Python 3",
   "language": "python",
   "name": "python3"
  },
  "language_info": {
   "codemirror_mode": {
    "name": "ipython",
    "version": 3
   },
   "file_extension": ".py",
   "mimetype": "text/x-python",
   "name": "python",
   "nbconvert_exporter": "python",
   "pygments_lexer": "ipython3",
   "version": "3.7.3"
  }
 },
 "nbformat": 4,
 "nbformat_minor": 4
}
